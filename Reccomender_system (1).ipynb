{
 "cells": [
  {
   "cell_type": "code",
   "execution_count": 826,
   "metadata": {
    "executionInfo": {
     "elapsed": 696,
     "status": "ok",
     "timestamp": 1684073419579,
     "user": {
      "displayName": "Mrunalini Gupta",
      "userId": "18282297984087753795"
     },
     "user_tz": -330
    },
    "id": "ZbwURkHDV6mW"
   },
   "outputs": [],
   "source": [
    "import pandas as pd\n",
    "import numpy as np\n",
    "import ast\n",
    "import json"
   ]
  },
  {
   "cell_type": "code",
   "execution_count": 828,
   "metadata": {
    "executionInfo": {
     "elapsed": 3098,
     "status": "ok",
     "timestamp": 1684073423855,
     "user": {
      "displayName": "Mrunalini Gupta",
      "userId": "18282297984087753795"
     },
     "user_tz": -330
    },
    "id": "ENwpPEVLcqz1"
   },
   "outputs": [],
   "source": [
    "movies=pd.read_csv(\"tmdb_5000_movies.csv\")\n",
    "credits=pd.read_csv(\"tmdb_5000_credits.csv.zip\")"
   ]
  },
  {
   "cell_type": "code",
   "execution_count": 829,
   "metadata": {
    "colab": {
     "base_uri": "https://localhost:8080/",
     "height": 367
    },
    "executionInfo": {
     "elapsed": 11,
     "status": "ok",
     "timestamp": 1684073423857,
     "user": {
      "displayName": "Mrunalini Gupta",
      "userId": "18282297984087753795"
     },
     "user_tz": -330
    },
    "id": "YvHWQn0DdXb4",
    "outputId": "4bc12ba9-79e4-428b-97c9-283ddb025157"
   },
   "outputs": [
    {
     "data": {
      "text/html": [
       "<div>\n",
       "<style scoped>\n",
       "    .dataframe tbody tr th:only-of-type {\n",
       "        vertical-align: middle;\n",
       "    }\n",
       "\n",
       "    .dataframe tbody tr th {\n",
       "        vertical-align: top;\n",
       "    }\n",
       "\n",
       "    .dataframe thead th {\n",
       "        text-align: right;\n",
       "    }\n",
       "</style>\n",
       "<table border=\"1\" class=\"dataframe\">\n",
       "  <thead>\n",
       "    <tr style=\"text-align: right;\">\n",
       "      <th></th>\n",
       "      <th>budget</th>\n",
       "      <th>genres</th>\n",
       "      <th>homepage</th>\n",
       "      <th>id</th>\n",
       "      <th>keywords</th>\n",
       "      <th>original_language</th>\n",
       "      <th>original_title</th>\n",
       "      <th>overview</th>\n",
       "      <th>popularity</th>\n",
       "      <th>production_companies</th>\n",
       "      <th>production_countries</th>\n",
       "      <th>release_date</th>\n",
       "      <th>revenue</th>\n",
       "      <th>runtime</th>\n",
       "      <th>spoken_languages</th>\n",
       "      <th>status</th>\n",
       "      <th>tagline</th>\n",
       "      <th>title</th>\n",
       "      <th>vote_average</th>\n",
       "      <th>vote_count</th>\n",
       "    </tr>\n",
       "  </thead>\n",
       "  <tbody>\n",
       "    <tr>\n",
       "      <th>0</th>\n",
       "      <td>237000000</td>\n",
       "      <td>[{\"id\": 28, \"name\": \"Action\"}, {\"id\": 12, \"nam...</td>\n",
       "      <td>http://www.avatarmovie.com/</td>\n",
       "      <td>19995</td>\n",
       "      <td>[{\"id\": 1463, \"name\": \"culture clash\"}, {\"id\":...</td>\n",
       "      <td>en</td>\n",
       "      <td>Avatar</td>\n",
       "      <td>In the 22nd century, a paraplegic Marine is di...</td>\n",
       "      <td>150.437577</td>\n",
       "      <td>[{\"name\": \"Ingenious Film Partners\", \"id\": 289...</td>\n",
       "      <td>[{\"iso_3166_1\": \"US\", \"name\": \"United States o...</td>\n",
       "      <td>2009-12-10</td>\n",
       "      <td>2787965087</td>\n",
       "      <td>162.0</td>\n",
       "      <td>[{\"iso_639_1\": \"en\", \"name\": \"English\"}, {\"iso...</td>\n",
       "      <td>Released</td>\n",
       "      <td>Enter the World of Pandora.</td>\n",
       "      <td>Avatar</td>\n",
       "      <td>7.2</td>\n",
       "      <td>11800</td>\n",
       "    </tr>\n",
       "    <tr>\n",
       "      <th>1</th>\n",
       "      <td>300000000</td>\n",
       "      <td>[{\"id\": 12, \"name\": \"Adventure\"}, {\"id\": 14, \"...</td>\n",
       "      <td>http://disney.go.com/disneypictures/pirates/</td>\n",
       "      <td>285</td>\n",
       "      <td>[{\"id\": 270, \"name\": \"ocean\"}, {\"id\": 726, \"na...</td>\n",
       "      <td>en</td>\n",
       "      <td>Pirates of the Caribbean: At World's End</td>\n",
       "      <td>Captain Barbossa, long believed to be dead, ha...</td>\n",
       "      <td>139.082615</td>\n",
       "      <td>[{\"name\": \"Walt Disney Pictures\", \"id\": 2}, {\"...</td>\n",
       "      <td>[{\"iso_3166_1\": \"US\", \"name\": \"United States o...</td>\n",
       "      <td>2007-05-19</td>\n",
       "      <td>961000000</td>\n",
       "      <td>169.0</td>\n",
       "      <td>[{\"iso_639_1\": \"en\", \"name\": \"English\"}]</td>\n",
       "      <td>Released</td>\n",
       "      <td>At the end of the world, the adventure begins.</td>\n",
       "      <td>Pirates of the Caribbean: At World's End</td>\n",
       "      <td>6.9</td>\n",
       "      <td>4500</td>\n",
       "    </tr>\n",
       "  </tbody>\n",
       "</table>\n",
       "</div>"
      ],
      "text/plain": [
       "      budget                                             genres  \\\n",
       "0  237000000  [{\"id\": 28, \"name\": \"Action\"}, {\"id\": 12, \"nam...   \n",
       "1  300000000  [{\"id\": 12, \"name\": \"Adventure\"}, {\"id\": 14, \"...   \n",
       "\n",
       "                                       homepage     id  \\\n",
       "0                   http://www.avatarmovie.com/  19995   \n",
       "1  http://disney.go.com/disneypictures/pirates/    285   \n",
       "\n",
       "                                            keywords original_language  \\\n",
       "0  [{\"id\": 1463, \"name\": \"culture clash\"}, {\"id\":...                en   \n",
       "1  [{\"id\": 270, \"name\": \"ocean\"}, {\"id\": 726, \"na...                en   \n",
       "\n",
       "                             original_title  \\\n",
       "0                                    Avatar   \n",
       "1  Pirates of the Caribbean: At World's End   \n",
       "\n",
       "                                            overview  popularity  \\\n",
       "0  In the 22nd century, a paraplegic Marine is di...  150.437577   \n",
       "1  Captain Barbossa, long believed to be dead, ha...  139.082615   \n",
       "\n",
       "                                production_companies  \\\n",
       "0  [{\"name\": \"Ingenious Film Partners\", \"id\": 289...   \n",
       "1  [{\"name\": \"Walt Disney Pictures\", \"id\": 2}, {\"...   \n",
       "\n",
       "                                production_countries release_date     revenue  \\\n",
       "0  [{\"iso_3166_1\": \"US\", \"name\": \"United States o...   2009-12-10  2787965087   \n",
       "1  [{\"iso_3166_1\": \"US\", \"name\": \"United States o...   2007-05-19   961000000   \n",
       "\n",
       "   runtime                                   spoken_languages    status  \\\n",
       "0    162.0  [{\"iso_639_1\": \"en\", \"name\": \"English\"}, {\"iso...  Released   \n",
       "1    169.0           [{\"iso_639_1\": \"en\", \"name\": \"English\"}]  Released   \n",
       "\n",
       "                                          tagline  \\\n",
       "0                     Enter the World of Pandora.   \n",
       "1  At the end of the world, the adventure begins.   \n",
       "\n",
       "                                      title  vote_average  vote_count  \n",
       "0                                    Avatar           7.2       11800  \n",
       "1  Pirates of the Caribbean: At World's End           6.9        4500  "
      ]
     },
     "execution_count": 829,
     "metadata": {},
     "output_type": "execute_result"
    }
   ],
   "source": [
    "movies.head(2)"
   ]
  },
  {
   "cell_type": "code",
   "execution_count": 832,
   "metadata": {
    "colab": {
     "base_uri": "https://localhost:8080/",
     "height": 190
    },
    "executionInfo": {
     "elapsed": 16,
     "status": "ok",
     "timestamp": 1684073425387,
     "user": {
      "displayName": "Mrunalini Gupta",
      "userId": "18282297984087753795"
     },
     "user_tz": -330
    },
    "id": "hYG_Us3edbOl",
    "outputId": "c0ca4f44-e0f4-4e69-9031-0bf4a45b588b"
   },
   "outputs": [
    {
     "data": {
      "text/html": [
       "<div>\n",
       "<style scoped>\n",
       "    .dataframe tbody tr th:only-of-type {\n",
       "        vertical-align: middle;\n",
       "    }\n",
       "\n",
       "    .dataframe tbody tr th {\n",
       "        vertical-align: top;\n",
       "    }\n",
       "\n",
       "    .dataframe thead th {\n",
       "        text-align: right;\n",
       "    }\n",
       "</style>\n",
       "<table border=\"1\" class=\"dataframe\">\n",
       "  <thead>\n",
       "    <tr style=\"text-align: right;\">\n",
       "      <th></th>\n",
       "      <th>movie_id</th>\n",
       "      <th>title</th>\n",
       "      <th>cast</th>\n",
       "      <th>crew</th>\n",
       "    </tr>\n",
       "  </thead>\n",
       "  <tbody>\n",
       "    <tr>\n",
       "      <th>0</th>\n",
       "      <td>19995</td>\n",
       "      <td>Avatar</td>\n",
       "      <td>[{\"cast_id\": 242, \"character\": \"Jake Sully\", \"...</td>\n",
       "      <td>[{\"credit_id\": \"52fe48009251416c750aca23\", \"de...</td>\n",
       "    </tr>\n",
       "    <tr>\n",
       "      <th>1</th>\n",
       "      <td>285</td>\n",
       "      <td>Pirates of the Caribbean: At World's End</td>\n",
       "      <td>[{\"cast_id\": 4, \"character\": \"Captain Jack Spa...</td>\n",
       "      <td>[{\"credit_id\": \"52fe4232c3a36847f800b579\", \"de...</td>\n",
       "    </tr>\n",
       "  </tbody>\n",
       "</table>\n",
       "</div>"
      ],
      "text/plain": [
       "   movie_id                                     title  \\\n",
       "0     19995                                    Avatar   \n",
       "1       285  Pirates of the Caribbean: At World's End   \n",
       "\n",
       "                                                cast  \\\n",
       "0  [{\"cast_id\": 242, \"character\": \"Jake Sully\", \"...   \n",
       "1  [{\"cast_id\": 4, \"character\": \"Captain Jack Spa...   \n",
       "\n",
       "                                                crew  \n",
       "0  [{\"credit_id\": \"52fe48009251416c750aca23\", \"de...  \n",
       "1  [{\"credit_id\": \"52fe4232c3a36847f800b579\", \"de...  "
      ]
     },
     "execution_count": 832,
     "metadata": {},
     "output_type": "execute_result"
    }
   ],
   "source": [
    "credits.head(2)"
   ]
  },
  {
   "cell_type": "code",
   "execution_count": 834,
   "metadata": {
    "colab": {
     "base_uri": "https://localhost:8080/"
    },
    "executionInfo": {
     "elapsed": 9,
     "status": "ok",
     "timestamp": 1684073426053,
     "user": {
      "displayName": "Mrunalini Gupta",
      "userId": "18282297984087753795"
     },
     "user_tz": -330
    },
    "id": "7NJTERNXdo-E",
    "outputId": "98684b53-8eac-47c3-ad9a-6ab9aa401122"
   },
   "outputs": [
    {
     "name": "stdout",
     "output_type": "stream",
     "text": [
      "(4803, 20)\n",
      "(4803, 4)\n"
     ]
    }
   ],
   "source": [
    "print(movies.shape)\n",
    "print(credits.shape)"
   ]
  },
  {
   "cell_type": "code",
   "execution_count": 836,
   "metadata": {
    "colab": {
     "base_uri": "https://localhost:8080/"
    },
    "executionInfo": {
     "elapsed": 8,
     "status": "ok",
     "timestamp": 1684073429820,
     "user": {
      "displayName": "Mrunalini Gupta",
      "userId": "18282297984087753795"
     },
     "user_tz": -330
    },
    "id": "rUc69cDhLHVB",
    "outputId": "cfb8be02-4af5-472b-9e39-5734336ee481"
   },
   "outputs": [
    {
     "data": {
      "text/plain": [
       "budget                     0\n",
       "genres                     0\n",
       "homepage                3091\n",
       "id                         0\n",
       "keywords                   0\n",
       "original_language          0\n",
       "original_title             0\n",
       "overview                   3\n",
       "popularity                 0\n",
       "production_companies       0\n",
       "production_countries       0\n",
       "release_date               1\n",
       "revenue                    0\n",
       "runtime                    2\n",
       "spoken_languages           0\n",
       "status                     0\n",
       "tagline                  844\n",
       "title                      0\n",
       "vote_average               0\n",
       "vote_count                 0\n",
       "dtype: int64"
      ]
     },
     "execution_count": 836,
     "metadata": {},
     "output_type": "execute_result"
    }
   ],
   "source": [
    "movies.isnull().sum()"
   ]
  },
  {
   "cell_type": "code",
   "execution_count": 838,
   "metadata": {
    "colab": {
     "base_uri": "https://localhost:8080/"
    },
    "executionInfo": {
     "elapsed": 609,
     "status": "ok",
     "timestamp": 1684073433672,
     "user": {
      "displayName": "Mrunalini Gupta",
      "userId": "18282297984087753795"
     },
     "user_tz": -330
    },
    "id": "ZBxZgoBlLL1L",
    "outputId": "8223e05b-f547-433e-8e69-f1451fa5609e"
   },
   "outputs": [
    {
     "data": {
      "text/plain": [
       "movie_id    0\n",
       "title       0\n",
       "cast        0\n",
       "crew        0\n",
       "dtype: int64"
      ]
     },
     "execution_count": 838,
     "metadata": {},
     "output_type": "execute_result"
    }
   ],
   "source": [
    "credits.isnull().sum()"
   ]
  },
  {
   "cell_type": "code",
   "execution_count": 840,
   "metadata": {
    "executionInfo": {
     "elapsed": 3,
     "status": "ok",
     "timestamp": 1684073435825,
     "user": {
      "displayName": "Mrunalini Gupta",
      "userId": "18282297984087753795"
     },
     "user_tz": -330
    },
    "id": "jEtwKgb8d82s"
   },
   "outputs": [],
   "source": [
    "movies = movies.merge(credits,on='title')"
   ]
  },
  {
   "cell_type": "code",
   "execution_count": 842,
   "metadata": {
    "colab": {
     "base_uri": "https://localhost:8080/"
    },
    "executionInfo": {
     "elapsed": 9,
     "status": "ok",
     "timestamp": 1684073437660,
     "user": {
      "displayName": "Mrunalini Gupta",
      "userId": "18282297984087753795"
     },
     "user_tz": -330
    },
    "id": "54ig5gSMLP4K",
    "outputId": "7efee7c0-c594-48ed-881c-d99a0fdd6027"
   },
   "outputs": [
    {
     "data": {
      "text/plain": [
       "budget                     0\n",
       "genres                     0\n",
       "homepage                3096\n",
       "id                         0\n",
       "keywords                   0\n",
       "original_language          0\n",
       "original_title             0\n",
       "overview                   3\n",
       "popularity                 0\n",
       "production_companies       0\n",
       "production_countries       0\n",
       "release_date               1\n",
       "revenue                    0\n",
       "runtime                    2\n",
       "spoken_languages           0\n",
       "status                     0\n",
       "tagline                  844\n",
       "title                      0\n",
       "vote_average               0\n",
       "vote_count                 0\n",
       "movie_id                   0\n",
       "cast                       0\n",
       "crew                       0\n",
       "dtype: int64"
      ]
     },
     "execution_count": 842,
     "metadata": {},
     "output_type": "execute_result"
    }
   ],
   "source": [
    "movies.isnull().sum()"
   ]
  },
  {
   "cell_type": "code",
   "execution_count": 844,
   "metadata": {
    "executionInfo": {
     "elapsed": 6,
     "status": "ok",
     "timestamp": 1684073453389,
     "user": {
      "displayName": "Mrunalini Gupta",
      "userId": "18282297984087753795"
     },
     "user_tz": -330
    },
    "id": "7RlBnFBxeBJS"
   },
   "outputs": [],
   "source": [
    "movies = movies[['movie_id','title','overview','genres','keywords','cast','crew','release_date','vote_average','vote_count']]"
   ]
  },
  {
   "cell_type": "code",
   "execution_count": 846,
   "metadata": {
    "colab": {
     "base_uri": "https://localhost:8080/"
    },
    "executionInfo": {
     "elapsed": 8,
     "status": "ok",
     "timestamp": 1684073454373,
     "user": {
      "displayName": "Mrunalini Gupta",
      "userId": "18282297984087753795"
     },
     "user_tz": -330
    },
    "id": "xqRRuXOpeQ2M",
    "outputId": "4fce819a-de76-453c-fa64-9986e866bc14"
   },
   "outputs": [
    {
     "data": {
      "text/plain": [
       "Index(['movie_id', 'title', 'overview', 'genres', 'keywords', 'cast', 'crew',\n",
       "       'release_date', 'vote_average', 'vote_count'],\n",
       "      dtype='object')"
      ]
     },
     "execution_count": 846,
     "metadata": {},
     "output_type": "execute_result"
    }
   ],
   "source": [
    "movies.columns"
   ]
  },
  {
   "cell_type": "code",
   "execution_count": 848,
   "metadata": {
    "executionInfo": {
     "elapsed": 7,
     "status": "ok",
     "timestamp": 1684073457319,
     "user": {
      "displayName": "Mrunalini Gupta",
      "userId": "18282297984087753795"
     },
     "user_tz": -330
    },
    "id": "V9R9zS8wf4LZ"
   },
   "outputs": [],
   "source": [
    "popularity=movies[['movie_id','title','vote_average','vote_count']]"
   ]
  },
  {
   "cell_type": "code",
   "execution_count": 850,
   "metadata": {
    "colab": {
     "base_uri": "https://localhost:8080/",
     "height": 143
    },
    "executionInfo": {
     "elapsed": 12,
     "status": "ok",
     "timestamp": 1684073459973,
     "user": {
      "displayName": "Mrunalini Gupta",
      "userId": "18282297984087753795"
     },
     "user_tz": -330
    },
    "id": "Yp-q2yjdgLoR",
    "outputId": "2b0dc095-a84a-4cdd-f304-0e56b8379dd9"
   },
   "outputs": [
    {
     "data": {
      "text/html": [
       "<div>\n",
       "<style scoped>\n",
       "    .dataframe tbody tr th:only-of-type {\n",
       "        vertical-align: middle;\n",
       "    }\n",
       "\n",
       "    .dataframe tbody tr th {\n",
       "        vertical-align: top;\n",
       "    }\n",
       "\n",
       "    .dataframe thead th {\n",
       "        text-align: right;\n",
       "    }\n",
       "</style>\n",
       "<table border=\"1\" class=\"dataframe\">\n",
       "  <thead>\n",
       "    <tr style=\"text-align: right;\">\n",
       "      <th></th>\n",
       "      <th>movie_id</th>\n",
       "      <th>title</th>\n",
       "      <th>vote_average</th>\n",
       "      <th>vote_count</th>\n",
       "    </tr>\n",
       "  </thead>\n",
       "  <tbody>\n",
       "    <tr>\n",
       "      <th>0</th>\n",
       "      <td>19995</td>\n",
       "      <td>Avatar</td>\n",
       "      <td>7.2</td>\n",
       "      <td>11800</td>\n",
       "    </tr>\n",
       "    <tr>\n",
       "      <th>1</th>\n",
       "      <td>285</td>\n",
       "      <td>Pirates of the Caribbean: At World's End</td>\n",
       "      <td>6.9</td>\n",
       "      <td>4500</td>\n",
       "    </tr>\n",
       "    <tr>\n",
       "      <th>2</th>\n",
       "      <td>206647</td>\n",
       "      <td>Spectre</td>\n",
       "      <td>6.3</td>\n",
       "      <td>4466</td>\n",
       "    </tr>\n",
       "  </tbody>\n",
       "</table>\n",
       "</div>"
      ],
      "text/plain": [
       "   movie_id                                     title  vote_average  \\\n",
       "0     19995                                    Avatar           7.2   \n",
       "1       285  Pirates of the Caribbean: At World's End           6.9   \n",
       "2    206647                                   Spectre           6.3   \n",
       "\n",
       "   vote_count  \n",
       "0       11800  \n",
       "1        4500  \n",
       "2        4466  "
      ]
     },
     "execution_count": 850,
     "metadata": {},
     "output_type": "execute_result"
    }
   ],
   "source": [
    "popularity.head(3)"
   ]
  },
  {
   "cell_type": "code",
   "execution_count": 852,
   "metadata": {
    "colab": {
     "base_uri": "https://localhost:8080/",
     "height": 423
    },
    "executionInfo": {
     "elapsed": 16,
     "status": "ok",
     "timestamp": 1684073462654,
     "user": {
      "displayName": "Mrunalini Gupta",
      "userId": "18282297984087753795"
     },
     "user_tz": -330
    },
    "id": "xn8cFKEag5nx",
    "outputId": "fdbbc7de-3df7-4b52-974e-c1a6ad3d5e50"
   },
   "outputs": [
    {
     "data": {
      "text/html": [
       "<div>\n",
       "<style scoped>\n",
       "    .dataframe tbody tr th:only-of-type {\n",
       "        vertical-align: middle;\n",
       "    }\n",
       "\n",
       "    .dataframe tbody tr th {\n",
       "        vertical-align: top;\n",
       "    }\n",
       "\n",
       "    .dataframe thead th {\n",
       "        text-align: right;\n",
       "    }\n",
       "</style>\n",
       "<table border=\"1\" class=\"dataframe\">\n",
       "  <thead>\n",
       "    <tr style=\"text-align: right;\">\n",
       "      <th></th>\n",
       "      <th>movie_id</th>\n",
       "      <th>title</th>\n",
       "      <th>vote_average</th>\n",
       "      <th>vote_count</th>\n",
       "    </tr>\n",
       "  </thead>\n",
       "  <tbody>\n",
       "    <tr>\n",
       "      <th>96</th>\n",
       "      <td>27205</td>\n",
       "      <td>Inception</td>\n",
       "      <td>8.1</td>\n",
       "      <td>13752</td>\n",
       "    </tr>\n",
       "    <tr>\n",
       "      <th>65</th>\n",
       "      <td>155</td>\n",
       "      <td>The Dark Knight</td>\n",
       "      <td>8.2</td>\n",
       "      <td>12002</td>\n",
       "    </tr>\n",
       "    <tr>\n",
       "      <th>0</th>\n",
       "      <td>19995</td>\n",
       "      <td>Avatar</td>\n",
       "      <td>7.2</td>\n",
       "      <td>11800</td>\n",
       "    </tr>\n",
       "    <tr>\n",
       "      <th>16</th>\n",
       "      <td>24428</td>\n",
       "      <td>The Avengers</td>\n",
       "      <td>7.4</td>\n",
       "      <td>11776</td>\n",
       "    </tr>\n",
       "    <tr>\n",
       "      <th>788</th>\n",
       "      <td>293660</td>\n",
       "      <td>Deadpool</td>\n",
       "      <td>7.4</td>\n",
       "      <td>10995</td>\n",
       "    </tr>\n",
       "    <tr>\n",
       "      <th>...</th>\n",
       "      <td>...</td>\n",
       "      <td>...</td>\n",
       "      <td>...</td>\n",
       "      <td>...</td>\n",
       "    </tr>\n",
       "    <tr>\n",
       "      <th>4659</th>\n",
       "      <td>46252</td>\n",
       "      <td>Rust</td>\n",
       "      <td>0.0</td>\n",
       "      <td>0</td>\n",
       "    </tr>\n",
       "    <tr>\n",
       "      <th>4123</th>\n",
       "      <td>325140</td>\n",
       "      <td>Hum To Mohabbat Karega</td>\n",
       "      <td>0.0</td>\n",
       "      <td>0</td>\n",
       "    </tr>\n",
       "    <tr>\n",
       "      <th>4735</th>\n",
       "      <td>272726</td>\n",
       "      <td>Dude Where's My Dog?</td>\n",
       "      <td>0.0</td>\n",
       "      <td>0</td>\n",
       "    </tr>\n",
       "    <tr>\n",
       "      <th>4145</th>\n",
       "      <td>459488</td>\n",
       "      <td>To Be Frank, Sinatra at 100</td>\n",
       "      <td>0.0</td>\n",
       "      <td>0</td>\n",
       "    </tr>\n",
       "    <tr>\n",
       "      <th>4663</th>\n",
       "      <td>320435</td>\n",
       "      <td>UnDivided</td>\n",
       "      <td>0.0</td>\n",
       "      <td>0</td>\n",
       "    </tr>\n",
       "  </tbody>\n",
       "</table>\n",
       "<p>4809 rows × 4 columns</p>\n",
       "</div>"
      ],
      "text/plain": [
       "      movie_id                        title  vote_average  vote_count\n",
       "96       27205                    Inception           8.1       13752\n",
       "65         155              The Dark Knight           8.2       12002\n",
       "0        19995                       Avatar           7.2       11800\n",
       "16       24428                 The Avengers           7.4       11776\n",
       "788     293660                     Deadpool           7.4       10995\n",
       "...        ...                          ...           ...         ...\n",
       "4659     46252                         Rust           0.0           0\n",
       "4123    325140       Hum To Mohabbat Karega           0.0           0\n",
       "4735    272726         Dude Where's My Dog?           0.0           0\n",
       "4145    459488  To Be Frank, Sinatra at 100           0.0           0\n",
       "4663    320435                    UnDivided           0.0           0\n",
       "\n",
       "[4809 rows x 4 columns]"
      ]
     },
     "execution_count": 852,
     "metadata": {},
     "output_type": "execute_result"
    }
   ],
   "source": [
    "popularity.sort_values('vote_count',ascending=False)"
   ]
  },
  {
   "cell_type": "code",
   "execution_count": 854,
   "metadata": {
    "executionInfo": {
     "elapsed": 1553,
     "status": "ok",
     "timestamp": 1684073467884,
     "user": {
      "displayName": "Mrunalini Gupta",
      "userId": "18282297984087753795"
     },
     "user_tz": -330
    },
    "id": "gyI3P_asglzf"
   },
   "outputs": [],
   "source": [
    "popularity = popularity[popularity['vote_count']>=2500].sort_values('vote_average',ascending=False).head(50)"
   ]
  },
  {
   "cell_type": "code",
   "execution_count": 856,
   "metadata": {
    "executionInfo": {
     "elapsed": 5,
     "status": "ok",
     "timestamp": 1684073469105,
     "user": {
      "displayName": "Mrunalini Gupta",
      "userId": "18282297984087753795"
     },
     "user_tz": -330
    },
    "id": "Pvn4q3rrixcR"
   },
   "outputs": [],
   "source": [
    "popularity = popularity.merge(movies,on='title').drop_duplicates('title')"
   ]
  },
  {
   "cell_type": "code",
   "execution_count": 858,
   "metadata": {
    "colab": {
     "base_uri": "https://localhost:8080/"
    },
    "executionInfo": {
     "elapsed": 7,
     "status": "ok",
     "timestamp": 1684073470861,
     "user": {
      "displayName": "Mrunalini Gupta",
      "userId": "18282297984087753795"
     },
     "user_tz": -330
    },
    "id": "gpzhYhSmmIEl",
    "outputId": "055d373a-b0b3-42aa-c316-fb609cfe071b"
   },
   "outputs": [
    {
     "data": {
      "text/plain": [
       "(50, 13)"
      ]
     },
     "execution_count": 858,
     "metadata": {},
     "output_type": "execute_result"
    }
   ],
   "source": [
    "popularity.shape"
   ]
  },
  {
   "cell_type": "code",
   "execution_count": 860,
   "metadata": {
    "colab": {
     "base_uri": "https://localhost:8080/",
     "height": 704
    },
    "executionInfo": {
     "elapsed": 13,
     "status": "ok",
     "timestamp": 1684073487214,
     "user": {
      "displayName": "Mrunalini Gupta",
      "userId": "18282297984087753795"
     },
     "user_tz": -330
    },
    "id": "7pjd8yXymKj5",
    "outputId": "915b5a40-aa09-49a4-9ff4-d4af9b7ffe65"
   },
   "outputs": [
    {
     "data": {
      "text/html": [
       "<div>\n",
       "<style scoped>\n",
       "    .dataframe tbody tr th:only-of-type {\n",
       "        vertical-align: middle;\n",
       "    }\n",
       "\n",
       "    .dataframe tbody tr th {\n",
       "        vertical-align: top;\n",
       "    }\n",
       "\n",
       "    .dataframe thead th {\n",
       "        text-align: right;\n",
       "    }\n",
       "</style>\n",
       "<table border=\"1\" class=\"dataframe\">\n",
       "  <thead>\n",
       "    <tr style=\"text-align: right;\">\n",
       "      <th></th>\n",
       "      <th>movie_id_x</th>\n",
       "      <th>title</th>\n",
       "      <th>vote_average_x</th>\n",
       "      <th>vote_count_x</th>\n",
       "      <th>movie_id_y</th>\n",
       "      <th>overview</th>\n",
       "      <th>genres</th>\n",
       "      <th>keywords</th>\n",
       "      <th>cast</th>\n",
       "      <th>crew</th>\n",
       "      <th>release_date</th>\n",
       "      <th>vote_average_y</th>\n",
       "      <th>vote_count_y</th>\n",
       "    </tr>\n",
       "  </thead>\n",
       "  <tbody>\n",
       "    <tr>\n",
       "      <th>0</th>\n",
       "      <td>278</td>\n",
       "      <td>The Shawshank Redemption</td>\n",
       "      <td>8.5</td>\n",
       "      <td>8205</td>\n",
       "      <td>278</td>\n",
       "      <td>Framed in the 1940s for the double murder of h...</td>\n",
       "      <td>[{\"id\": 18, \"name\": \"Drama\"}, {\"id\": 80, \"name...</td>\n",
       "      <td>[{\"id\": 378, \"name\": \"prison\"}, {\"id\": 417, \"n...</td>\n",
       "      <td>[{\"cast_id\": 3, \"character\": \"Andy Dufresne\", ...</td>\n",
       "      <td>[{\"credit_id\": \"52fe4231c3a36847f800b153\", \"de...</td>\n",
       "      <td>1994-09-23</td>\n",
       "      <td>8.5</td>\n",
       "      <td>8205</td>\n",
       "    </tr>\n",
       "    <tr>\n",
       "      <th>1</th>\n",
       "      <td>238</td>\n",
       "      <td>The Godfather</td>\n",
       "      <td>8.4</td>\n",
       "      <td>5893</td>\n",
       "      <td>238</td>\n",
       "      <td>Spanning the years 1945 to 1955, a chronicle o...</td>\n",
       "      <td>[{\"id\": 18, \"name\": \"Drama\"}, {\"id\": 80, \"name...</td>\n",
       "      <td>[{\"id\": 131, \"name\": \"italy\"}, {\"id\": 699, \"na...</td>\n",
       "      <td>[{\"cast_id\": 5, \"character\": \"Don Vito Corleon...</td>\n",
       "      <td>[{\"credit_id\": \"52fe422bc3a36847f80093c9\", \"de...</td>\n",
       "      <td>1972-03-14</td>\n",
       "      <td>8.4</td>\n",
       "      <td>5893</td>\n",
       "    </tr>\n",
       "    <tr>\n",
       "      <th>2</th>\n",
       "      <td>550</td>\n",
       "      <td>Fight Club</td>\n",
       "      <td>8.3</td>\n",
       "      <td>9413</td>\n",
       "      <td>550</td>\n",
       "      <td>A ticking-time-bomb insomniac and a slippery s...</td>\n",
       "      <td>[{\"id\": 18, \"name\": \"Drama\"}]</td>\n",
       "      <td>[{\"id\": 825, \"name\": \"support group\"}, {\"id\": ...</td>\n",
       "      <td>[{\"cast_id\": 4, \"character\": \"The Narrator\", \"...</td>\n",
       "      <td>[{\"credit_id\": \"55731b8192514111610027d7\", \"de...</td>\n",
       "      <td>1999-10-15</td>\n",
       "      <td>8.3</td>\n",
       "      <td>9413</td>\n",
       "    </tr>\n",
       "    <tr>\n",
       "      <th>3</th>\n",
       "      <td>424</td>\n",
       "      <td>Schindler's List</td>\n",
       "      <td>8.3</td>\n",
       "      <td>4329</td>\n",
       "      <td>424</td>\n",
       "      <td>The true story of how businessman Oskar Schind...</td>\n",
       "      <td>[{\"id\": 18, \"name\": \"Drama\"}, {\"id\": 36, \"name...</td>\n",
       "      <td>[{\"id\": 1382, \"name\": \"factory\"}, {\"id\": 1631,...</td>\n",
       "      <td>[{\"cast_id\": 14, \"character\": \"Oskar Schindler...</td>\n",
       "      <td>[{\"credit_id\": \"52fe4242c3a36847f8010303\", \"de...</td>\n",
       "      <td>1993-11-29</td>\n",
       "      <td>8.3</td>\n",
       "      <td>4329</td>\n",
       "    </tr>\n",
       "    <tr>\n",
       "      <th>4</th>\n",
       "      <td>129</td>\n",
       "      <td>Spirited Away</td>\n",
       "      <td>8.3</td>\n",
       "      <td>3840</td>\n",
       "      <td>129</td>\n",
       "      <td>A ten year old girl who wanders away from her ...</td>\n",
       "      <td>[{\"id\": 14, \"name\": \"Fantasy\"}, {\"id\": 12, \"na...</td>\n",
       "      <td>[{\"id\": 616, \"name\": \"witch\"}, {\"id\": 970, \"na...</td>\n",
       "      <td>[{\"cast_id\": 3, \"character\": \"Chihiro (voice)\"...</td>\n",
       "      <td>[{\"credit_id\": \"571e4beec3a3683393000236\", \"de...</td>\n",
       "      <td>2001-07-20</td>\n",
       "      <td>8.3</td>\n",
       "      <td>3840</td>\n",
       "    </tr>\n",
       "  </tbody>\n",
       "</table>\n",
       "</div>"
      ],
      "text/plain": [
       "   movie_id_x                     title  vote_average_x  vote_count_x  \\\n",
       "0         278  The Shawshank Redemption             8.5          8205   \n",
       "1         238             The Godfather             8.4          5893   \n",
       "2         550                Fight Club             8.3          9413   \n",
       "3         424          Schindler's List             8.3          4329   \n",
       "4         129             Spirited Away             8.3          3840   \n",
       "\n",
       "   movie_id_y                                           overview  \\\n",
       "0         278  Framed in the 1940s for the double murder of h...   \n",
       "1         238  Spanning the years 1945 to 1955, a chronicle o...   \n",
       "2         550  A ticking-time-bomb insomniac and a slippery s...   \n",
       "3         424  The true story of how businessman Oskar Schind...   \n",
       "4         129  A ten year old girl who wanders away from her ...   \n",
       "\n",
       "                                              genres  \\\n",
       "0  [{\"id\": 18, \"name\": \"Drama\"}, {\"id\": 80, \"name...   \n",
       "1  [{\"id\": 18, \"name\": \"Drama\"}, {\"id\": 80, \"name...   \n",
       "2                      [{\"id\": 18, \"name\": \"Drama\"}]   \n",
       "3  [{\"id\": 18, \"name\": \"Drama\"}, {\"id\": 36, \"name...   \n",
       "4  [{\"id\": 14, \"name\": \"Fantasy\"}, {\"id\": 12, \"na...   \n",
       "\n",
       "                                            keywords  \\\n",
       "0  [{\"id\": 378, \"name\": \"prison\"}, {\"id\": 417, \"n...   \n",
       "1  [{\"id\": 131, \"name\": \"italy\"}, {\"id\": 699, \"na...   \n",
       "2  [{\"id\": 825, \"name\": \"support group\"}, {\"id\": ...   \n",
       "3  [{\"id\": 1382, \"name\": \"factory\"}, {\"id\": 1631,...   \n",
       "4  [{\"id\": 616, \"name\": \"witch\"}, {\"id\": 970, \"na...   \n",
       "\n",
       "                                                cast  \\\n",
       "0  [{\"cast_id\": 3, \"character\": \"Andy Dufresne\", ...   \n",
       "1  [{\"cast_id\": 5, \"character\": \"Don Vito Corleon...   \n",
       "2  [{\"cast_id\": 4, \"character\": \"The Narrator\", \"...   \n",
       "3  [{\"cast_id\": 14, \"character\": \"Oskar Schindler...   \n",
       "4  [{\"cast_id\": 3, \"character\": \"Chihiro (voice)\"...   \n",
       "\n",
       "                                                crew release_date  \\\n",
       "0  [{\"credit_id\": \"52fe4231c3a36847f800b153\", \"de...   1994-09-23   \n",
       "1  [{\"credit_id\": \"52fe422bc3a36847f80093c9\", \"de...   1972-03-14   \n",
       "2  [{\"credit_id\": \"55731b8192514111610027d7\", \"de...   1999-10-15   \n",
       "3  [{\"credit_id\": \"52fe4242c3a36847f8010303\", \"de...   1993-11-29   \n",
       "4  [{\"credit_id\": \"571e4beec3a3683393000236\", \"de...   2001-07-20   \n",
       "\n",
       "   vote_average_y  vote_count_y  \n",
       "0             8.5          8205  \n",
       "1             8.4          5893  \n",
       "2             8.3          9413  \n",
       "3             8.3          4329  \n",
       "4             8.3          3840  "
      ]
     },
     "execution_count": 860,
     "metadata": {},
     "output_type": "execute_result"
    }
   ],
   "source": [
    "popularity.head(5)"
   ]
  },
  {
   "cell_type": "code",
   "execution_count": 862,
   "metadata": {
    "colab": {
     "base_uri": "https://localhost:8080/"
    },
    "executionInfo": {
     "elapsed": 4,
     "status": "ok",
     "timestamp": 1684073652157,
     "user": {
      "displayName": "Mrunalini Gupta",
      "userId": "18282297984087753795"
     },
     "user_tz": -330
    },
    "id": "HYwcJdrwkJ71",
    "outputId": "2721c7f6-a8b1-4290-c42c-b33eb045ab81"
   },
   "outputs": [
    {
     "data": {
      "text/plain": [
       "Index(['movie_id_x', 'title', 'vote_average_x', 'vote_count_x', 'movie_id_y',\n",
       "       'overview', 'genres', 'keywords', 'cast', 'crew', 'release_date',\n",
       "       'vote_average_y', 'vote_count_y'],\n",
       "      dtype='object')"
      ]
     },
     "execution_count": 862,
     "metadata": {},
     "output_type": "execute_result"
    }
   ],
   "source": [
    "popularity.columns"
   ]
  },
  {
   "cell_type": "code",
   "execution_count": 864,
   "metadata": {
    "executionInfo": {
     "elapsed": 3,
     "status": "ok",
     "timestamp": 1684073654425,
     "user": {
      "displayName": "Mrunalini Gupta",
      "userId": "18282297984087753795"
     },
     "user_tz": -330
    },
    "id": "ueEm170lkPUO"
   },
   "outputs": [],
   "source": [
    "popularity=popularity[['movie_id_x', 'title', 'vote_average_x', 'vote_count_x',\n",
    "       'overview', 'genres', 'keywords', 'cast', 'crew', 'release_date']]"
   ]
  },
  {
   "cell_type": "code",
   "execution_count": 866,
   "metadata": {
    "executionInfo": {
     "elapsed": 9,
     "status": "ok",
     "timestamp": 1684073656604,
     "user": {
      "displayName": "Mrunalini Gupta",
      "userId": "18282297984087753795"
     },
     "user_tz": -330
    },
    "id": "a22hs3Fgk5jT"
   },
   "outputs": [],
   "source": [
    "popularity = popularity.rename(columns={'movie_id_x': 'movie_id'})\n",
    "popularity = popularity.rename(columns={'vote_average_x': 'vote_average'})\n",
    "popularity = popularity.rename(columns={'vote_count_x': 'vote_count'})"
   ]
  },
  {
   "cell_type": "code",
   "execution_count": 868,
   "metadata": {
    "colab": {
     "base_uri": "https://localhost:8080/"
    },
    "executionInfo": {
     "elapsed": 7,
     "status": "ok",
     "timestamp": 1684073659847,
     "user": {
      "displayName": "Mrunalini Gupta",
      "userId": "18282297984087753795"
     },
     "user_tz": -330
    },
    "id": "O_o7w3DVlSS3",
    "outputId": "c8d81cac-2043-4ff8-f4d3-902a885794cc"
   },
   "outputs": [
    {
     "data": {
      "text/plain": [
       "Index(['movie_id', 'title', 'vote_average', 'vote_count', 'overview', 'genres',\n",
       "       'keywords', 'cast', 'crew', 'release_date'],\n",
       "      dtype='object')"
      ]
     },
     "execution_count": 868,
     "metadata": {},
     "output_type": "execute_result"
    }
   ],
   "source": [
    "popularity.columns"
   ]
  },
  {
   "cell_type": "code",
   "execution_count": 870,
   "metadata": {
    "colab": {
     "base_uri": "https://localhost:8080/"
    },
    "executionInfo": {
     "elapsed": 6,
     "status": "ok",
     "timestamp": 1684073661627,
     "user": {
      "displayName": "Mrunalini Gupta",
      "userId": "18282297984087753795"
     },
     "user_tz": -330
    },
    "id": "bZa-GgX5ke0W",
    "outputId": "770d4e7b-7802-4fd9-a293-f4910c2c2d90"
   },
   "outputs": [
    {
     "data": {
      "text/plain": [
       "(50, 10)"
      ]
     },
     "execution_count": 870,
     "metadata": {},
     "output_type": "execute_result"
    }
   ],
   "source": [
    "popularity.shape"
   ]
  },
  {
   "cell_type": "code",
   "execution_count": 872,
   "metadata": {
    "colab": {
     "base_uri": "https://localhost:8080/",
     "height": 367
    },
    "executionInfo": {
     "elapsed": 14,
     "status": "ok",
     "timestamp": 1684073665089,
     "user": {
      "displayName": "Mrunalini Gupta",
      "userId": "18282297984087753795"
     },
     "user_tz": -330
    },
    "id": "eGNoKSGjlXFE",
    "outputId": "4fb84473-123b-4b40-c1a7-fa4c89f37c92"
   },
   "outputs": [
    {
     "data": {
      "text/html": [
       "<div>\n",
       "<style scoped>\n",
       "    .dataframe tbody tr th:only-of-type {\n",
       "        vertical-align: middle;\n",
       "    }\n",
       "\n",
       "    .dataframe tbody tr th {\n",
       "        vertical-align: top;\n",
       "    }\n",
       "\n",
       "    .dataframe thead th {\n",
       "        text-align: right;\n",
       "    }\n",
       "</style>\n",
       "<table border=\"1\" class=\"dataframe\">\n",
       "  <thead>\n",
       "    <tr style=\"text-align: right;\">\n",
       "      <th></th>\n",
       "      <th>movie_id</th>\n",
       "      <th>title</th>\n",
       "      <th>vote_average</th>\n",
       "      <th>vote_count</th>\n",
       "      <th>overview</th>\n",
       "      <th>genres</th>\n",
       "      <th>keywords</th>\n",
       "      <th>cast</th>\n",
       "      <th>crew</th>\n",
       "      <th>release_date</th>\n",
       "    </tr>\n",
       "  </thead>\n",
       "  <tbody>\n",
       "    <tr>\n",
       "      <th>0</th>\n",
       "      <td>278</td>\n",
       "      <td>The Shawshank Redemption</td>\n",
       "      <td>8.5</td>\n",
       "      <td>8205</td>\n",
       "      <td>Framed in the 1940s for the double murder of h...</td>\n",
       "      <td>[{\"id\": 18, \"name\": \"Drama\"}, {\"id\": 80, \"name...</td>\n",
       "      <td>[{\"id\": 378, \"name\": \"prison\"}, {\"id\": 417, \"n...</td>\n",
       "      <td>[{\"cast_id\": 3, \"character\": \"Andy Dufresne\", ...</td>\n",
       "      <td>[{\"credit_id\": \"52fe4231c3a36847f800b153\", \"de...</td>\n",
       "      <td>1994-09-23</td>\n",
       "    </tr>\n",
       "    <tr>\n",
       "      <th>1</th>\n",
       "      <td>238</td>\n",
       "      <td>The Godfather</td>\n",
       "      <td>8.4</td>\n",
       "      <td>5893</td>\n",
       "      <td>Spanning the years 1945 to 1955, a chronicle o...</td>\n",
       "      <td>[{\"id\": 18, \"name\": \"Drama\"}, {\"id\": 80, \"name...</td>\n",
       "      <td>[{\"id\": 131, \"name\": \"italy\"}, {\"id\": 699, \"na...</td>\n",
       "      <td>[{\"cast_id\": 5, \"character\": \"Don Vito Corleon...</td>\n",
       "      <td>[{\"credit_id\": \"52fe422bc3a36847f80093c9\", \"de...</td>\n",
       "      <td>1972-03-14</td>\n",
       "    </tr>\n",
       "  </tbody>\n",
       "</table>\n",
       "</div>"
      ],
      "text/plain": [
       "   movie_id                     title  vote_average  vote_count  \\\n",
       "0       278  The Shawshank Redemption           8.5        8205   \n",
       "1       238             The Godfather           8.4        5893   \n",
       "\n",
       "                                            overview  \\\n",
       "0  Framed in the 1940s for the double murder of h...   \n",
       "1  Spanning the years 1945 to 1955, a chronicle o...   \n",
       "\n",
       "                                              genres  \\\n",
       "0  [{\"id\": 18, \"name\": \"Drama\"}, {\"id\": 80, \"name...   \n",
       "1  [{\"id\": 18, \"name\": \"Drama\"}, {\"id\": 80, \"name...   \n",
       "\n",
       "                                            keywords  \\\n",
       "0  [{\"id\": 378, \"name\": \"prison\"}, {\"id\": 417, \"n...   \n",
       "1  [{\"id\": 131, \"name\": \"italy\"}, {\"id\": 699, \"na...   \n",
       "\n",
       "                                                cast  \\\n",
       "0  [{\"cast_id\": 3, \"character\": \"Andy Dufresne\", ...   \n",
       "1  [{\"cast_id\": 5, \"character\": \"Don Vito Corleon...   \n",
       "\n",
       "                                                crew release_date  \n",
       "0  [{\"credit_id\": \"52fe4231c3a36847f800b153\", \"de...   1994-09-23  \n",
       "1  [{\"credit_id\": \"52fe422bc3a36847f80093c9\", \"de...   1972-03-14  "
      ]
     },
     "execution_count": 872,
     "metadata": {},
     "output_type": "execute_result"
    }
   ],
   "source": [
    "popularity.head(2)"
   ]
  },
  {
   "cell_type": "code",
   "execution_count": 874,
   "metadata": {
    "colab": {
     "base_uri": "https://localhost:8080/"
    },
    "executionInfo": {
     "elapsed": 1170,
     "status": "ok",
     "timestamp": 1684073671132,
     "user": {
      "displayName": "Mrunalini Gupta",
      "userId": "18282297984087753795"
     },
     "user_tz": -330
    },
    "id": "08SieNqdnBAx",
    "outputId": "9414178a-4ce7-41ec-91c1-ba2f5a3952e5"
   },
   "outputs": [
    {
     "data": {
      "text/plain": [
       "Index(['movie_id', 'title', 'vote_average', 'vote_count', 'overview', 'genres',\n",
       "       'keywords', 'cast', 'crew', 'release_date'],\n",
       "      dtype='object')"
      ]
     },
     "execution_count": 874,
     "metadata": {},
     "output_type": "execute_result"
    }
   ],
   "source": [
    "popularity.columns"
   ]
  },
  {
   "cell_type": "code",
   "execution_count": 876,
   "metadata": {
    "executionInfo": {
     "elapsed": 5,
     "status": "ok",
     "timestamp": 1684073674832,
     "user": {
      "displayName": "Mrunalini Gupta",
      "userId": "18282297984087753795"
     },
     "user_tz": -330
    },
    "id": "8Q56epwWmpqV"
   },
   "outputs": [],
   "source": [
    "popularity=popularity[['movie_id','title']]"
   ]
  },
  {
   "cell_type": "code",
   "execution_count": 878,
   "metadata": {
    "colab": {
     "base_uri": "https://localhost:8080/",
     "height": 112
    },
    "executionInfo": {
     "elapsed": 16,
     "status": "ok",
     "timestamp": 1684073689284,
     "user": {
      "displayName": "Mrunalini Gupta",
      "userId": "18282297984087753795"
     },
     "user_tz": -330
    },
    "id": "z81dz0E-nQqf",
    "outputId": "68e539f9-3381-4094-d089-7908037d3578"
   },
   "outputs": [
    {
     "data": {
      "text/html": [
       "<div>\n",
       "<style scoped>\n",
       "    .dataframe tbody tr th:only-of-type {\n",
       "        vertical-align: middle;\n",
       "    }\n",
       "\n",
       "    .dataframe tbody tr th {\n",
       "        vertical-align: top;\n",
       "    }\n",
       "\n",
       "    .dataframe thead th {\n",
       "        text-align: right;\n",
       "    }\n",
       "</style>\n",
       "<table border=\"1\" class=\"dataframe\">\n",
       "  <thead>\n",
       "    <tr style=\"text-align: right;\">\n",
       "      <th></th>\n",
       "      <th>movie_id</th>\n",
       "      <th>title</th>\n",
       "    </tr>\n",
       "  </thead>\n",
       "  <tbody>\n",
       "    <tr>\n",
       "      <th>0</th>\n",
       "      <td>278</td>\n",
       "      <td>The Shawshank Redemption</td>\n",
       "    </tr>\n",
       "    <tr>\n",
       "      <th>1</th>\n",
       "      <td>238</td>\n",
       "      <td>The Godfather</td>\n",
       "    </tr>\n",
       "  </tbody>\n",
       "</table>\n",
       "</div>"
      ],
      "text/plain": [
       "   movie_id                     title\n",
       "0       278  The Shawshank Redemption\n",
       "1       238             The Godfather"
      ]
     },
     "execution_count": 878,
     "metadata": {},
     "output_type": "execute_result"
    }
   ],
   "source": [
    "popularity.head(2)"
   ]
  },
  {
   "cell_type": "code",
   "execution_count": 880,
   "metadata": {
    "executionInfo": {
     "elapsed": 6,
     "status": "ok",
     "timestamp": 1684073822591,
     "user": {
      "displayName": "Mrunalini Gupta",
      "userId": "18282297984087753795"
     },
     "user_tz": -330
    },
    "id": "hRE_RGKBnYYQ"
   },
   "outputs": [],
   "source": [
    "popularity.to_csv('top50.csv',encoding ='utf-8-sig')"
   ]
  },
  {
   "cell_type": "code",
   "execution_count": 882,
   "metadata": {
    "colab": {
     "base_uri": "https://localhost:8080/"
    },
    "executionInfo": {
     "elapsed": 49,
     "status": "ok",
     "timestamp": 1683891069219,
     "user": {
      "displayName": "Mrunalini Gupta",
      "userId": "18282297984087753795"
     },
     "user_tz": -330
    },
    "id": "7K_vEsRZlvOs",
    "outputId": "caa087d0-6de5-448d-8a7b-d873807da513"
   },
   "outputs": [
    {
     "data": {
      "text/plain": [
       "Index(['movie_id', 'title', 'overview', 'genres', 'keywords', 'cast', 'crew',\n",
       "       'release_date', 'vote_average', 'vote_count'],\n",
       "      dtype='object')"
      ]
     },
     "execution_count": 882,
     "metadata": {},
     "output_type": "execute_result"
    }
   ],
   "source": [
    "movies.columns"
   ]
  },
  {
   "cell_type": "code",
   "execution_count": null,
   "metadata": {
    "id": "WmLwu80dK-WB"
   },
   "outputs": [],
   "source": []
  },
  {
   "cell_type": "code",
   "execution_count": null,
   "metadata": {
    "id": "wAuSvt0YLCSS"
   },
   "outputs": [],
   "source": []
  },
  {
   "cell_type": "code",
   "execution_count": 886,
   "metadata": {},
   "outputs": [],
   "source": [
    "import ast\n",
    "\n",
    "def convert(text):\n",
    "    L = []\n",
    "    try:\n",
    "        # If it's a string, parse it into a Python object\n",
    "        if isinstance(text, str):\n",
    "            text = ast.literal_eval(text)\n",
    "        \n",
    "        for i in text:\n",
    "            L.append(i['name']) \n",
    "    except Exception as e:\n",
    "        print(f\"Error parsing: {text}\")\n",
    "        print(\"Error:\", e)\n",
    "    return L\n",
    "\n",
    "# Drop missing values\n",
    "movies.dropna(inplace=True)\n",
    "\n",
    "# Apply the function\n",
    "movies['genres'] = movies['genres'].apply(convert)\n"
   ]
  },
  {
   "cell_type": "code",
   "execution_count": 888,
   "metadata": {
    "colab": {
     "base_uri": "https://localhost:8080/",
     "height": 367
    },
    "executionInfo": {
     "elapsed": 10,
     "status": "ok",
     "timestamp": 1683891069625,
     "user": {
      "displayName": "Mrunalini Gupta",
      "userId": "18282297984087753795"
     },
     "user_tz": -330
    },
    "id": "epUuS6OSLuP7",
    "outputId": "25bfce1e-08a0-40c0-d9fd-79e751c8cd1a"
   },
   "outputs": [
    {
     "data": {
      "text/html": [
       "<div>\n",
       "<style scoped>\n",
       "    .dataframe tbody tr th:only-of-type {\n",
       "        vertical-align: middle;\n",
       "    }\n",
       "\n",
       "    .dataframe tbody tr th {\n",
       "        vertical-align: top;\n",
       "    }\n",
       "\n",
       "    .dataframe thead th {\n",
       "        text-align: right;\n",
       "    }\n",
       "</style>\n",
       "<table border=\"1\" class=\"dataframe\">\n",
       "  <thead>\n",
       "    <tr style=\"text-align: right;\">\n",
       "      <th></th>\n",
       "      <th>movie_id</th>\n",
       "      <th>title</th>\n",
       "      <th>overview</th>\n",
       "      <th>genres</th>\n",
       "      <th>keywords</th>\n",
       "      <th>cast</th>\n",
       "      <th>crew</th>\n",
       "      <th>release_date</th>\n",
       "      <th>vote_average</th>\n",
       "      <th>vote_count</th>\n",
       "    </tr>\n",
       "  </thead>\n",
       "  <tbody>\n",
       "    <tr>\n",
       "      <th>0</th>\n",
       "      <td>19995</td>\n",
       "      <td>Avatar</td>\n",
       "      <td>In the 22nd century, a paraplegic Marine is di...</td>\n",
       "      <td>[Action, Adventure, Fantasy, Science Fiction]</td>\n",
       "      <td>[{\"id\": 1463, \"name\": \"culture clash\"}, {\"id\":...</td>\n",
       "      <td>[{\"cast_id\": 242, \"character\": \"Jake Sully\", \"...</td>\n",
       "      <td>[{\"credit_id\": \"52fe48009251416c750aca23\", \"de...</td>\n",
       "      <td>2009-12-10</td>\n",
       "      <td>7.2</td>\n",
       "      <td>11800</td>\n",
       "    </tr>\n",
       "    <tr>\n",
       "      <th>1</th>\n",
       "      <td>285</td>\n",
       "      <td>Pirates of the Caribbean: At World's End</td>\n",
       "      <td>Captain Barbossa, long believed to be dead, ha...</td>\n",
       "      <td>[Adventure, Fantasy, Action]</td>\n",
       "      <td>[{\"id\": 270, \"name\": \"ocean\"}, {\"id\": 726, \"na...</td>\n",
       "      <td>[{\"cast_id\": 4, \"character\": \"Captain Jack Spa...</td>\n",
       "      <td>[{\"credit_id\": \"52fe4232c3a36847f800b579\", \"de...</td>\n",
       "      <td>2007-05-19</td>\n",
       "      <td>6.9</td>\n",
       "      <td>4500</td>\n",
       "    </tr>\n",
       "  </tbody>\n",
       "</table>\n",
       "</div>"
      ],
      "text/plain": [
       "   movie_id                                     title  \\\n",
       "0     19995                                    Avatar   \n",
       "1       285  Pirates of the Caribbean: At World's End   \n",
       "\n",
       "                                            overview  \\\n",
       "0  In the 22nd century, a paraplegic Marine is di...   \n",
       "1  Captain Barbossa, long believed to be dead, ha...   \n",
       "\n",
       "                                          genres  \\\n",
       "0  [Action, Adventure, Fantasy, Science Fiction]   \n",
       "1                   [Adventure, Fantasy, Action]   \n",
       "\n",
       "                                            keywords  \\\n",
       "0  [{\"id\": 1463, \"name\": \"culture clash\"}, {\"id\":...   \n",
       "1  [{\"id\": 270, \"name\": \"ocean\"}, {\"id\": 726, \"na...   \n",
       "\n",
       "                                                cast  \\\n",
       "0  [{\"cast_id\": 242, \"character\": \"Jake Sully\", \"...   \n",
       "1  [{\"cast_id\": 4, \"character\": \"Captain Jack Spa...   \n",
       "\n",
       "                                                crew release_date  \\\n",
       "0  [{\"credit_id\": \"52fe48009251416c750aca23\", \"de...   2009-12-10   \n",
       "1  [{\"credit_id\": \"52fe4232c3a36847f800b579\", \"de...   2007-05-19   \n",
       "\n",
       "   vote_average  vote_count  \n",
       "0           7.2       11800  \n",
       "1           6.9        4500  "
      ]
     },
     "execution_count": 888,
     "metadata": {},
     "output_type": "execute_result"
    }
   ],
   "source": [
    "movies.head(2)"
   ]
  },
  {
   "cell_type": "code",
   "execution_count": 890,
   "metadata": {
    "id": "980P-pIkLkHu"
   },
   "outputs": [],
   "source": [
    "movies['keywords'] = movies['keywords'].apply(convert)"
   ]
  },
  {
   "cell_type": "code",
   "execution_count": 892,
   "metadata": {
    "colab": {
     "base_uri": "https://localhost:8080/",
     "height": 384
    },
    "executionInfo": {
     "elapsed": 9,
     "status": "ok",
     "timestamp": 1683891072073,
     "user": {
      "displayName": "Mrunalini Gupta",
      "userId": "18282297984087753795"
     },
     "user_tz": -330
    },
    "id": "hHCejVp3Lq2Y",
    "outputId": "b717c249-3fdf-4fc1-a199-9c3866378f8c"
   },
   "outputs": [
    {
     "data": {
      "text/html": [
       "<div>\n",
       "<style scoped>\n",
       "    .dataframe tbody tr th:only-of-type {\n",
       "        vertical-align: middle;\n",
       "    }\n",
       "\n",
       "    .dataframe tbody tr th {\n",
       "        vertical-align: top;\n",
       "    }\n",
       "\n",
       "    .dataframe thead th {\n",
       "        text-align: right;\n",
       "    }\n",
       "</style>\n",
       "<table border=\"1\" class=\"dataframe\">\n",
       "  <thead>\n",
       "    <tr style=\"text-align: right;\">\n",
       "      <th></th>\n",
       "      <th>movie_id</th>\n",
       "      <th>title</th>\n",
       "      <th>overview</th>\n",
       "      <th>genres</th>\n",
       "      <th>keywords</th>\n",
       "      <th>cast</th>\n",
       "      <th>crew</th>\n",
       "      <th>release_date</th>\n",
       "      <th>vote_average</th>\n",
       "      <th>vote_count</th>\n",
       "    </tr>\n",
       "  </thead>\n",
       "  <tbody>\n",
       "    <tr>\n",
       "      <th>0</th>\n",
       "      <td>19995</td>\n",
       "      <td>Avatar</td>\n",
       "      <td>In the 22nd century, a paraplegic Marine is di...</td>\n",
       "      <td>[Action, Adventure, Fantasy, Science Fiction]</td>\n",
       "      <td>[culture clash, future, space war, space colon...</td>\n",
       "      <td>[{\"cast_id\": 242, \"character\": \"Jake Sully\", \"...</td>\n",
       "      <td>[{\"credit_id\": \"52fe48009251416c750aca23\", \"de...</td>\n",
       "      <td>2009-12-10</td>\n",
       "      <td>7.2</td>\n",
       "      <td>11800</td>\n",
       "    </tr>\n",
       "    <tr>\n",
       "      <th>1</th>\n",
       "      <td>285</td>\n",
       "      <td>Pirates of the Caribbean: At World's End</td>\n",
       "      <td>Captain Barbossa, long believed to be dead, ha...</td>\n",
       "      <td>[Adventure, Fantasy, Action]</td>\n",
       "      <td>[ocean, drug abuse, exotic island, east india ...</td>\n",
       "      <td>[{\"cast_id\": 4, \"character\": \"Captain Jack Spa...</td>\n",
       "      <td>[{\"credit_id\": \"52fe4232c3a36847f800b579\", \"de...</td>\n",
       "      <td>2007-05-19</td>\n",
       "      <td>6.9</td>\n",
       "      <td>4500</td>\n",
       "    </tr>\n",
       "  </tbody>\n",
       "</table>\n",
       "</div>"
      ],
      "text/plain": [
       "   movie_id                                     title  \\\n",
       "0     19995                                    Avatar   \n",
       "1       285  Pirates of the Caribbean: At World's End   \n",
       "\n",
       "                                            overview  \\\n",
       "0  In the 22nd century, a paraplegic Marine is di...   \n",
       "1  Captain Barbossa, long believed to be dead, ha...   \n",
       "\n",
       "                                          genres  \\\n",
       "0  [Action, Adventure, Fantasy, Science Fiction]   \n",
       "1                   [Adventure, Fantasy, Action]   \n",
       "\n",
       "                                            keywords  \\\n",
       "0  [culture clash, future, space war, space colon...   \n",
       "1  [ocean, drug abuse, exotic island, east india ...   \n",
       "\n",
       "                                                cast  \\\n",
       "0  [{\"cast_id\": 242, \"character\": \"Jake Sully\", \"...   \n",
       "1  [{\"cast_id\": 4, \"character\": \"Captain Jack Spa...   \n",
       "\n",
       "                                                crew release_date  \\\n",
       "0  [{\"credit_id\": \"52fe48009251416c750aca23\", \"de...   2009-12-10   \n",
       "1  [{\"credit_id\": \"52fe4232c3a36847f800b579\", \"de...   2007-05-19   \n",
       "\n",
       "   vote_average  vote_count  \n",
       "0           7.2       11800  \n",
       "1           6.9        4500  "
      ]
     },
     "execution_count": 892,
     "metadata": {},
     "output_type": "execute_result"
    }
   ],
   "source": [
    "movies.head(2)"
   ]
  },
  {
   "cell_type": "code",
   "execution_count": 894,
   "metadata": {
    "id": "CYp7-c40MJ3x"
   },
   "outputs": [],
   "source": [
    "def convert3(text):\n",
    "    L = []\n",
    "    counter = 0\n",
    "    for i in ast.literal_eval(text):\n",
    "        if counter < 3:\n",
    "            L.append(i['name'])\n",
    "        counter+=1\n",
    "    return L "
   ]
  },
  {
   "cell_type": "code",
   "execution_count": 896,
   "metadata": {
    "id": "0lngkePZMPKs"
   },
   "outputs": [],
   "source": [
    "movies['cast'] = movies['cast'].apply(convert)"
   ]
  },
  {
   "cell_type": "code",
   "execution_count": 897,
   "metadata": {
    "colab": {
     "base_uri": "https://localhost:8080/",
     "height": 384
    },
    "executionInfo": {
     "elapsed": 10,
     "status": "ok",
     "timestamp": 1683891078635,
     "user": {
      "displayName": "Mrunalini Gupta",
      "userId": "18282297984087753795"
     },
     "user_tz": -330
    },
    "id": "Xn1kciEQMSq1",
    "outputId": "fe5af13f-3e41-4d12-998c-86030c8c4d4c"
   },
   "outputs": [
    {
     "data": {
      "text/html": [
       "<div>\n",
       "<style scoped>\n",
       "    .dataframe tbody tr th:only-of-type {\n",
       "        vertical-align: middle;\n",
       "    }\n",
       "\n",
       "    .dataframe tbody tr th {\n",
       "        vertical-align: top;\n",
       "    }\n",
       "\n",
       "    .dataframe thead th {\n",
       "        text-align: right;\n",
       "    }\n",
       "</style>\n",
       "<table border=\"1\" class=\"dataframe\">\n",
       "  <thead>\n",
       "    <tr style=\"text-align: right;\">\n",
       "      <th></th>\n",
       "      <th>movie_id</th>\n",
       "      <th>title</th>\n",
       "      <th>overview</th>\n",
       "      <th>genres</th>\n",
       "      <th>keywords</th>\n",
       "      <th>cast</th>\n",
       "      <th>crew</th>\n",
       "      <th>release_date</th>\n",
       "      <th>vote_average</th>\n",
       "      <th>vote_count</th>\n",
       "    </tr>\n",
       "  </thead>\n",
       "  <tbody>\n",
       "    <tr>\n",
       "      <th>0</th>\n",
       "      <td>19995</td>\n",
       "      <td>Avatar</td>\n",
       "      <td>In the 22nd century, a paraplegic Marine is di...</td>\n",
       "      <td>[Action, Adventure, Fantasy, Science Fiction]</td>\n",
       "      <td>[culture clash, future, space war, space colon...</td>\n",
       "      <td>[Sam Worthington, Zoe Saldana, Sigourney Weave...</td>\n",
       "      <td>[{\"credit_id\": \"52fe48009251416c750aca23\", \"de...</td>\n",
       "      <td>2009-12-10</td>\n",
       "      <td>7.2</td>\n",
       "      <td>11800</td>\n",
       "    </tr>\n",
       "    <tr>\n",
       "      <th>1</th>\n",
       "      <td>285</td>\n",
       "      <td>Pirates of the Caribbean: At World's End</td>\n",
       "      <td>Captain Barbossa, long believed to be dead, ha...</td>\n",
       "      <td>[Adventure, Fantasy, Action]</td>\n",
       "      <td>[ocean, drug abuse, exotic island, east india ...</td>\n",
       "      <td>[Johnny Depp, Orlando Bloom, Keira Knightley, ...</td>\n",
       "      <td>[{\"credit_id\": \"52fe4232c3a36847f800b579\", \"de...</td>\n",
       "      <td>2007-05-19</td>\n",
       "      <td>6.9</td>\n",
       "      <td>4500</td>\n",
       "    </tr>\n",
       "  </tbody>\n",
       "</table>\n",
       "</div>"
      ],
      "text/plain": [
       "   movie_id                                     title  \\\n",
       "0     19995                                    Avatar   \n",
       "1       285  Pirates of the Caribbean: At World's End   \n",
       "\n",
       "                                            overview  \\\n",
       "0  In the 22nd century, a paraplegic Marine is di...   \n",
       "1  Captain Barbossa, long believed to be dead, ha...   \n",
       "\n",
       "                                          genres  \\\n",
       "0  [Action, Adventure, Fantasy, Science Fiction]   \n",
       "1                   [Adventure, Fantasy, Action]   \n",
       "\n",
       "                                            keywords  \\\n",
       "0  [culture clash, future, space war, space colon...   \n",
       "1  [ocean, drug abuse, exotic island, east india ...   \n",
       "\n",
       "                                                cast  \\\n",
       "0  [Sam Worthington, Zoe Saldana, Sigourney Weave...   \n",
       "1  [Johnny Depp, Orlando Bloom, Keira Knightley, ...   \n",
       "\n",
       "                                                crew release_date  \\\n",
       "0  [{\"credit_id\": \"52fe48009251416c750aca23\", \"de...   2009-12-10   \n",
       "1  [{\"credit_id\": \"52fe4232c3a36847f800b579\", \"de...   2007-05-19   \n",
       "\n",
       "   vote_average  vote_count  \n",
       "0           7.2       11800  \n",
       "1           6.9        4500  "
      ]
     },
     "execution_count": 897,
     "metadata": {},
     "output_type": "execute_result"
    }
   ],
   "source": [
    "movies.head(2)"
   ]
  },
  {
   "cell_type": "code",
   "execution_count": 900,
   "metadata": {
    "id": "OrLdlYVdMfJM"
   },
   "outputs": [],
   "source": [
    "movies['cast'] = movies['cast'].apply(lambda x:x[0:3])"
   ]
  },
  {
   "cell_type": "code",
   "execution_count": 902,
   "metadata": {
    "id": "r90fZiCtMk9f"
   },
   "outputs": [],
   "source": [
    "def fetch_director(text):\n",
    "    L = []\n",
    "    for i in ast.literal_eval(text):\n",
    "        if i['job'] == 'Director':\n",
    "            L.append(i['name'])\n",
    "    return L "
   ]
  },
  {
   "cell_type": "code",
   "execution_count": 904,
   "metadata": {},
   "outputs": [],
   "source": [
    "movies['crew'] = movies['crew'].apply(fetch_director)"
   ]
  },
  {
   "cell_type": "code",
   "execution_count": 905,
   "metadata": {
    "colab": {
     "base_uri": "https://localhost:8080/",
     "height": 384
    },
    "executionInfo": {
     "elapsed": 16,
     "status": "ok",
     "timestamp": 1683891080955,
     "user": {
      "displayName": "Mrunalini Gupta",
      "userId": "18282297984087753795"
     },
     "user_tz": -330
    },
    "id": "i_JZ-m_8NrKO",
    "outputId": "f6a77300-3069-4ed3-fc28-29b7bdc46cf2"
   },
   "outputs": [
    {
     "data": {
      "text/html": [
       "<div>\n",
       "<style scoped>\n",
       "    .dataframe tbody tr th:only-of-type {\n",
       "        vertical-align: middle;\n",
       "    }\n",
       "\n",
       "    .dataframe tbody tr th {\n",
       "        vertical-align: top;\n",
       "    }\n",
       "\n",
       "    .dataframe thead th {\n",
       "        text-align: right;\n",
       "    }\n",
       "</style>\n",
       "<table border=\"1\" class=\"dataframe\">\n",
       "  <thead>\n",
       "    <tr style=\"text-align: right;\">\n",
       "      <th></th>\n",
       "      <th>movie_id</th>\n",
       "      <th>title</th>\n",
       "      <th>overview</th>\n",
       "      <th>genres</th>\n",
       "      <th>keywords</th>\n",
       "      <th>cast</th>\n",
       "      <th>crew</th>\n",
       "      <th>release_date</th>\n",
       "      <th>vote_average</th>\n",
       "      <th>vote_count</th>\n",
       "    </tr>\n",
       "  </thead>\n",
       "  <tbody>\n",
       "    <tr>\n",
       "      <th>0</th>\n",
       "      <td>19995</td>\n",
       "      <td>Avatar</td>\n",
       "      <td>In the 22nd century, a paraplegic Marine is di...</td>\n",
       "      <td>[Action, Adventure, Fantasy, Science Fiction]</td>\n",
       "      <td>[culture clash, future, space war, space colon...</td>\n",
       "      <td>[Sam Worthington, Zoe Saldana, Sigourney Weaver]</td>\n",
       "      <td>[James Cameron]</td>\n",
       "      <td>2009-12-10</td>\n",
       "      <td>7.2</td>\n",
       "      <td>11800</td>\n",
       "    </tr>\n",
       "    <tr>\n",
       "      <th>1</th>\n",
       "      <td>285</td>\n",
       "      <td>Pirates of the Caribbean: At World's End</td>\n",
       "      <td>Captain Barbossa, long believed to be dead, ha...</td>\n",
       "      <td>[Adventure, Fantasy, Action]</td>\n",
       "      <td>[ocean, drug abuse, exotic island, east india ...</td>\n",
       "      <td>[Johnny Depp, Orlando Bloom, Keira Knightley]</td>\n",
       "      <td>[Gore Verbinski]</td>\n",
       "      <td>2007-05-19</td>\n",
       "      <td>6.9</td>\n",
       "      <td>4500</td>\n",
       "    </tr>\n",
       "  </tbody>\n",
       "</table>\n",
       "</div>"
      ],
      "text/plain": [
       "   movie_id                                     title  \\\n",
       "0     19995                                    Avatar   \n",
       "1       285  Pirates of the Caribbean: At World's End   \n",
       "\n",
       "                                            overview  \\\n",
       "0  In the 22nd century, a paraplegic Marine is di...   \n",
       "1  Captain Barbossa, long believed to be dead, ha...   \n",
       "\n",
       "                                          genres  \\\n",
       "0  [Action, Adventure, Fantasy, Science Fiction]   \n",
       "1                   [Adventure, Fantasy, Action]   \n",
       "\n",
       "                                            keywords  \\\n",
       "0  [culture clash, future, space war, space colon...   \n",
       "1  [ocean, drug abuse, exotic island, east india ...   \n",
       "\n",
       "                                               cast              crew  \\\n",
       "0  [Sam Worthington, Zoe Saldana, Sigourney Weaver]   [James Cameron]   \n",
       "1     [Johnny Depp, Orlando Bloom, Keira Knightley]  [Gore Verbinski]   \n",
       "\n",
       "  release_date  vote_average  vote_count  \n",
       "0   2009-12-10           7.2       11800  \n",
       "1   2007-05-19           6.9        4500  "
      ]
     },
     "execution_count": 905,
     "metadata": {},
     "output_type": "execute_result"
    }
   ],
   "source": [
    "movies.head(2)"
   ]
  },
  {
   "cell_type": "code",
   "execution_count": 908,
   "metadata": {},
   "outputs": [],
   "source": [
    "def collapse(L):\n",
    "    L1 = []\n",
    "    for i in L:\n",
    "        L1.append(i.replace(\" \",\"\"))\n",
    "    return L1"
   ]
  },
  {
   "cell_type": "code",
   "execution_count": 910,
   "metadata": {},
   "outputs": [],
   "source": [
    "movies['cast'] = movies['cast'].apply(collapse)\n",
    "movies['crew'] = movies['crew'].apply(collapse)\n",
    "movies['genres'] = movies['genres'].apply(collapse)\n",
    "movies['keywords'] = movies['keywords'].apply(collapse)\n",
    "     "
   ]
  },
  {
   "cell_type": "code",
   "execution_count": 912,
   "metadata": {
    "colab": {
     "base_uri": "https://localhost:8080/",
     "height": 367
    },
    "executionInfo": {
     "elapsed": 35,
     "status": "ok",
     "timestamp": 1683891081590,
     "user": {
      "displayName": "Mrunalini Gupta",
      "userId": "18282297984087753795"
     },
     "user_tz": -330
    },
    "id": "BdpwskkmN3Gw",
    "outputId": "6a23b360-5699-493a-cff2-8e7391ec75ff"
   },
   "outputs": [
    {
     "data": {
      "text/html": [
       "<div>\n",
       "<style scoped>\n",
       "    .dataframe tbody tr th:only-of-type {\n",
       "        vertical-align: middle;\n",
       "    }\n",
       "\n",
       "    .dataframe tbody tr th {\n",
       "        vertical-align: top;\n",
       "    }\n",
       "\n",
       "    .dataframe thead th {\n",
       "        text-align: right;\n",
       "    }\n",
       "</style>\n",
       "<table border=\"1\" class=\"dataframe\">\n",
       "  <thead>\n",
       "    <tr style=\"text-align: right;\">\n",
       "      <th></th>\n",
       "      <th>movie_id</th>\n",
       "      <th>title</th>\n",
       "      <th>overview</th>\n",
       "      <th>genres</th>\n",
       "      <th>keywords</th>\n",
       "      <th>cast</th>\n",
       "      <th>crew</th>\n",
       "      <th>release_date</th>\n",
       "      <th>vote_average</th>\n",
       "      <th>vote_count</th>\n",
       "    </tr>\n",
       "  </thead>\n",
       "  <tbody>\n",
       "    <tr>\n",
       "      <th>0</th>\n",
       "      <td>19995</td>\n",
       "      <td>Avatar</td>\n",
       "      <td>In the 22nd century, a paraplegic Marine is di...</td>\n",
       "      <td>[Action, Adventure, Fantasy, ScienceFiction]</td>\n",
       "      <td>[cultureclash, future, spacewar, spacecolony, ...</td>\n",
       "      <td>[SamWorthington, ZoeSaldana, SigourneyWeaver]</td>\n",
       "      <td>[JamesCameron]</td>\n",
       "      <td>2009-12-10</td>\n",
       "      <td>7.2</td>\n",
       "      <td>11800</td>\n",
       "    </tr>\n",
       "    <tr>\n",
       "      <th>1</th>\n",
       "      <td>285</td>\n",
       "      <td>Pirates of the Caribbean: At World's End</td>\n",
       "      <td>Captain Barbossa, long believed to be dead, ha...</td>\n",
       "      <td>[Adventure, Fantasy, Action]</td>\n",
       "      <td>[ocean, drugabuse, exoticisland, eastindiatrad...</td>\n",
       "      <td>[JohnnyDepp, OrlandoBloom, KeiraKnightley]</td>\n",
       "      <td>[GoreVerbinski]</td>\n",
       "      <td>2007-05-19</td>\n",
       "      <td>6.9</td>\n",
       "      <td>4500</td>\n",
       "    </tr>\n",
       "  </tbody>\n",
       "</table>\n",
       "</div>"
      ],
      "text/plain": [
       "   movie_id                                     title  \\\n",
       "0     19995                                    Avatar   \n",
       "1       285  Pirates of the Caribbean: At World's End   \n",
       "\n",
       "                                            overview  \\\n",
       "0  In the 22nd century, a paraplegic Marine is di...   \n",
       "1  Captain Barbossa, long believed to be dead, ha...   \n",
       "\n",
       "                                         genres  \\\n",
       "0  [Action, Adventure, Fantasy, ScienceFiction]   \n",
       "1                  [Adventure, Fantasy, Action]   \n",
       "\n",
       "                                            keywords  \\\n",
       "0  [cultureclash, future, spacewar, spacecolony, ...   \n",
       "1  [ocean, drugabuse, exoticisland, eastindiatrad...   \n",
       "\n",
       "                                            cast             crew  \\\n",
       "0  [SamWorthington, ZoeSaldana, SigourneyWeaver]   [JamesCameron]   \n",
       "1     [JohnnyDepp, OrlandoBloom, KeiraKnightley]  [GoreVerbinski]   \n",
       "\n",
       "  release_date  vote_average  vote_count  \n",
       "0   2009-12-10           7.2       11800  \n",
       "1   2007-05-19           6.9        4500  "
      ]
     },
     "execution_count": 912,
     "metadata": {},
     "output_type": "execute_result"
    }
   ],
   "source": [
    "movies.head(2)"
   ]
  },
  {
   "cell_type": "code",
   "execution_count": 914,
   "metadata": {
    "id": "AhTcpGjHN9F-"
   },
   "outputs": [],
   "source": [
    "movies['overview'] = movies['overview'].apply(lambda x:x.split())"
   ]
  },
  {
   "cell_type": "code",
   "execution_count": 916,
   "metadata": {
    "colab": {
     "base_uri": "https://localhost:8080/",
     "height": 315
    },
    "executionInfo": {
     "elapsed": 35,
     "status": "ok",
     "timestamp": 1683891081593,
     "user": {
      "displayName": "Mrunalini Gupta",
      "userId": "18282297984087753795"
     },
     "user_tz": -330
    },
    "id": "LZ85QWykN-cv",
    "outputId": "7ccc5c2c-1451-464c-d6ef-9c31d00271e4"
   },
   "outputs": [
    {
     "data": {
      "text/html": [
       "<div>\n",
       "<style scoped>\n",
       "    .dataframe tbody tr th:only-of-type {\n",
       "        vertical-align: middle;\n",
       "    }\n",
       "\n",
       "    .dataframe tbody tr th {\n",
       "        vertical-align: top;\n",
       "    }\n",
       "\n",
       "    .dataframe thead th {\n",
       "        text-align: right;\n",
       "    }\n",
       "</style>\n",
       "<table border=\"1\" class=\"dataframe\">\n",
       "  <thead>\n",
       "    <tr style=\"text-align: right;\">\n",
       "      <th></th>\n",
       "      <th>movie_id</th>\n",
       "      <th>title</th>\n",
       "      <th>overview</th>\n",
       "      <th>genres</th>\n",
       "      <th>keywords</th>\n",
       "      <th>cast</th>\n",
       "      <th>crew</th>\n",
       "      <th>release_date</th>\n",
       "      <th>vote_average</th>\n",
       "      <th>vote_count</th>\n",
       "    </tr>\n",
       "  </thead>\n",
       "  <tbody>\n",
       "    <tr>\n",
       "      <th>0</th>\n",
       "      <td>19995</td>\n",
       "      <td>Avatar</td>\n",
       "      <td>[In, the, 22nd, century,, a, paraplegic, Marin...</td>\n",
       "      <td>[Action, Adventure, Fantasy, ScienceFiction]</td>\n",
       "      <td>[cultureclash, future, spacewar, spacecolony, ...</td>\n",
       "      <td>[SamWorthington, ZoeSaldana, SigourneyWeaver]</td>\n",
       "      <td>[JamesCameron]</td>\n",
       "      <td>2009-12-10</td>\n",
       "      <td>7.2</td>\n",
       "      <td>11800</td>\n",
       "    </tr>\n",
       "    <tr>\n",
       "      <th>1</th>\n",
       "      <td>285</td>\n",
       "      <td>Pirates of the Caribbean: At World's End</td>\n",
       "      <td>[Captain, Barbossa,, long, believed, to, be, d...</td>\n",
       "      <td>[Adventure, Fantasy, Action]</td>\n",
       "      <td>[ocean, drugabuse, exoticisland, eastindiatrad...</td>\n",
       "      <td>[JohnnyDepp, OrlandoBloom, KeiraKnightley]</td>\n",
       "      <td>[GoreVerbinski]</td>\n",
       "      <td>2007-05-19</td>\n",
       "      <td>6.9</td>\n",
       "      <td>4500</td>\n",
       "    </tr>\n",
       "  </tbody>\n",
       "</table>\n",
       "</div>"
      ],
      "text/plain": [
       "   movie_id                                     title  \\\n",
       "0     19995                                    Avatar   \n",
       "1       285  Pirates of the Caribbean: At World's End   \n",
       "\n",
       "                                            overview  \\\n",
       "0  [In, the, 22nd, century,, a, paraplegic, Marin...   \n",
       "1  [Captain, Barbossa,, long, believed, to, be, d...   \n",
       "\n",
       "                                         genres  \\\n",
       "0  [Action, Adventure, Fantasy, ScienceFiction]   \n",
       "1                  [Adventure, Fantasy, Action]   \n",
       "\n",
       "                                            keywords  \\\n",
       "0  [cultureclash, future, spacewar, spacecolony, ...   \n",
       "1  [ocean, drugabuse, exoticisland, eastindiatrad...   \n",
       "\n",
       "                                            cast             crew  \\\n",
       "0  [SamWorthington, ZoeSaldana, SigourneyWeaver]   [JamesCameron]   \n",
       "1     [JohnnyDepp, OrlandoBloom, KeiraKnightley]  [GoreVerbinski]   \n",
       "\n",
       "  release_date  vote_average  vote_count  \n",
       "0   2009-12-10           7.2       11800  \n",
       "1   2007-05-19           6.9        4500  "
      ]
     },
     "execution_count": 916,
     "metadata": {},
     "output_type": "execute_result"
    }
   ],
   "source": [
    "movies.head(2)"
   ]
  },
  {
   "cell_type": "code",
   "execution_count": 918,
   "metadata": {
    "id": "UXBMmXxkOFAn"
   },
   "outputs": [],
   "source": [
    "movies['features'] = movies['overview'] + movies['genres'] + movies['keywords'] + movies['cast'] + movies['crew']"
   ]
  },
  {
   "cell_type": "code",
   "execution_count": 920,
   "metadata": {
    "id": "DCfpgAg9OLvC"
   },
   "outputs": [],
   "source": [
    "movies_new = movies.drop(columns=['overview','genres','keywords','cast','crew'])"
   ]
  },
  {
   "cell_type": "code",
   "execution_count": 922,
   "metadata": {
    "id": "CuZkT9yZOV9x"
   },
   "outputs": [],
   "source": [
    "movies_new=movies_new[['movie_id','title','features']]"
   ]
  },
  {
   "cell_type": "code",
   "execution_count": 924,
   "metadata": {
    "colab": {
     "base_uri": "https://localhost:8080/",
     "height": 112
    },
    "executionInfo": {
     "elapsed": 32,
     "status": "ok",
     "timestamp": 1683891081596,
     "user": {
      "displayName": "Mrunalini Gupta",
      "userId": "18282297984087753795"
     },
     "user_tz": -330
    },
    "id": "WrSFXidbOPCj",
    "outputId": "8e23b9bc-1cb2-483a-ca10-0f888631decd"
   },
   "outputs": [
    {
     "data": {
      "text/html": [
       "<div>\n",
       "<style scoped>\n",
       "    .dataframe tbody tr th:only-of-type {\n",
       "        vertical-align: middle;\n",
       "    }\n",
       "\n",
       "    .dataframe tbody tr th {\n",
       "        vertical-align: top;\n",
       "    }\n",
       "\n",
       "    .dataframe thead th {\n",
       "        text-align: right;\n",
       "    }\n",
       "</style>\n",
       "<table border=\"1\" class=\"dataframe\">\n",
       "  <thead>\n",
       "    <tr style=\"text-align: right;\">\n",
       "      <th></th>\n",
       "      <th>movie_id</th>\n",
       "      <th>title</th>\n",
       "      <th>features</th>\n",
       "    </tr>\n",
       "  </thead>\n",
       "  <tbody>\n",
       "    <tr>\n",
       "      <th>0</th>\n",
       "      <td>19995</td>\n",
       "      <td>Avatar</td>\n",
       "      <td>[In, the, 22nd, century,, a, paraplegic, Marin...</td>\n",
       "    </tr>\n",
       "    <tr>\n",
       "      <th>1</th>\n",
       "      <td>285</td>\n",
       "      <td>Pirates of the Caribbean: At World's End</td>\n",
       "      <td>[Captain, Barbossa,, long, believed, to, be, d...</td>\n",
       "    </tr>\n",
       "  </tbody>\n",
       "</table>\n",
       "</div>"
      ],
      "text/plain": [
       "   movie_id                                     title  \\\n",
       "0     19995                                    Avatar   \n",
       "1       285  Pirates of the Caribbean: At World's End   \n",
       "\n",
       "                                            features  \n",
       "0  [In, the, 22nd, century,, a, paraplegic, Marin...  \n",
       "1  [Captain, Barbossa,, long, believed, to, be, d...  "
      ]
     },
     "execution_count": 924,
     "metadata": {},
     "output_type": "execute_result"
    }
   ],
   "source": [
    "movies_new.head(2)"
   ]
  },
  {
   "cell_type": "code",
   "execution_count": 926,
   "metadata": {
    "id": "JURgMD_6pL5F"
   },
   "outputs": [],
   "source": [
    "#from google.colab import files"
   ]
  },
  {
   "cell_type": "code",
   "execution_count": 928,
   "metadata": {
    "id": "O-Z5mvGUpl1c"
   },
   "outputs": [],
   "source": [
    "#movies_new.to_csv('dataset.csv', encoding = 'utf-8-sig')\n",
    "#files.download('dataset.csv')"
   ]
  },
  {
   "cell_type": "code",
   "execution_count": 930,
   "metadata": {
    "colab": {
     "base_uri": "https://localhost:8080/",
     "height": 17
    },
    "executionInfo": {
     "elapsed": 789,
     "status": "ok",
     "timestamp": 1683906610365,
     "user": {
      "displayName": "Mrunalini Gupta",
      "userId": "18282297984087753795"
     },
     "user_tz": -330
    },
    "id": "PFAE5cmNp5eE",
    "outputId": "61923907-56cd-442a-80ad-a93c035e1e5d"
   },
   "outputs": [],
   "source": [
    "#files.download('dataset.csv')"
   ]
  },
  {
   "cell_type": "code",
   "execution_count": 932,
   "metadata": {
    "id": "I8QMfVN6OtcP"
   },
   "outputs": [],
   "source": [
    "movies_new['features'] = movies_new['features'].apply(lambda x: \" \".join(x))"
   ]
  },
  {
   "cell_type": "code",
   "execution_count": 934,
   "metadata": {
    "colab": {
     "base_uri": "https://localhost:8080/",
     "height": 112
    },
    "executionInfo": {
     "elapsed": 31,
     "status": "ok",
     "timestamp": 1683891081598,
     "user": {
      "displayName": "Mrunalini Gupta",
      "userId": "18282297984087753795"
     },
     "user_tz": -330
    },
    "id": "HM8fTfXWPIYt",
    "outputId": "caa3f3df-4dc8-42bf-b5cd-fdbcc3117b2e"
   },
   "outputs": [
    {
     "data": {
      "text/html": [
       "<div>\n",
       "<style scoped>\n",
       "    .dataframe tbody tr th:only-of-type {\n",
       "        vertical-align: middle;\n",
       "    }\n",
       "\n",
       "    .dataframe tbody tr th {\n",
       "        vertical-align: top;\n",
       "    }\n",
       "\n",
       "    .dataframe thead th {\n",
       "        text-align: right;\n",
       "    }\n",
       "</style>\n",
       "<table border=\"1\" class=\"dataframe\">\n",
       "  <thead>\n",
       "    <tr style=\"text-align: right;\">\n",
       "      <th></th>\n",
       "      <th>movie_id</th>\n",
       "      <th>title</th>\n",
       "      <th>features</th>\n",
       "    </tr>\n",
       "  </thead>\n",
       "  <tbody>\n",
       "    <tr>\n",
       "      <th>0</th>\n",
       "      <td>19995</td>\n",
       "      <td>Avatar</td>\n",
       "      <td>In the 22nd century, a paraplegic Marine is di...</td>\n",
       "    </tr>\n",
       "    <tr>\n",
       "      <th>1</th>\n",
       "      <td>285</td>\n",
       "      <td>Pirates of the Caribbean: At World's End</td>\n",
       "      <td>Captain Barbossa, long believed to be dead, ha...</td>\n",
       "    </tr>\n",
       "  </tbody>\n",
       "</table>\n",
       "</div>"
      ],
      "text/plain": [
       "   movie_id                                     title  \\\n",
       "0     19995                                    Avatar   \n",
       "1       285  Pirates of the Caribbean: At World's End   \n",
       "\n",
       "                                            features  \n",
       "0  In the 22nd century, a paraplegic Marine is di...  \n",
       "1  Captain Barbossa, long believed to be dead, ha...  "
      ]
     },
     "execution_count": 934,
     "metadata": {},
     "output_type": "execute_result"
    }
   ],
   "source": [
    "movies_new.head(2)"
   ]
  },
  {
   "cell_type": "code",
   "execution_count": 936,
   "metadata": {
    "id": "Bh9s8xJVQ3ek"
   },
   "outputs": [],
   "source": [
    "from sklearn.feature_extraction.text import CountVectorizer"
   ]
  },
  {
   "cell_type": "code",
   "execution_count": 938,
   "metadata": {
    "id": "54qfBxeeQ6r6"
   },
   "outputs": [],
   "source": [
    "cv = CountVectorizer(max_features=5000,stop_words='english')"
   ]
  },
  {
   "cell_type": "code",
   "execution_count": 940,
   "metadata": {
    "id": "_bpLTKAeRB8L"
   },
   "outputs": [],
   "source": [
    "vector = cv.fit_transform(movies_new['features']).toarray()"
   ]
  },
  {
   "cell_type": "code",
   "execution_count": 942,
   "metadata": {
    "colab": {
     "base_uri": "https://localhost:8080/"
    },
    "executionInfo": {
     "elapsed": 9,
     "status": "ok",
     "timestamp": 1683891084017,
     "user": {
      "displayName": "Mrunalini Gupta",
      "userId": "18282297984087753795"
     },
     "user_tz": -330
    },
    "id": "X4JmqtCYRHsD",
    "outputId": "19fe6354-7654-47e4-c902-8c1f4d4a34bb"
   },
   "outputs": [
    {
     "data": {
      "text/plain": [
       "(4805, 5000)"
      ]
     },
     "execution_count": 942,
     "metadata": {},
     "output_type": "execute_result"
    }
   ],
   "source": [
    "vector.shape"
   ]
  },
  {
   "cell_type": "code",
   "execution_count": 944,
   "metadata": {
    "id": "ozpU3wi2RPXP"
   },
   "outputs": [],
   "source": [
    "from sklearn.metrics.pairwise import cosine_similarity"
   ]
  },
  {
   "cell_type": "code",
   "execution_count": 946,
   "metadata": {
    "id": "5MsEYJrJRS6a"
   },
   "outputs": [],
   "source": [
    "similarity = cosine_similarity(vector)"
   ]
  },
  {
   "cell_type": "code",
   "execution_count": 948,
   "metadata": {
    "colab": {
     "base_uri": "https://localhost:8080/"
    },
    "executionInfo": {
     "elapsed": 48,
     "status": "ok",
     "timestamp": 1683891090616,
     "user": {
      "displayName": "Mrunalini Gupta",
      "userId": "18282297984087753795"
     },
     "user_tz": -330
    },
    "id": "tdAKCwtjRp46",
    "outputId": "628f7330-a944-4bda-a164-c045c957d072"
   },
   "outputs": [
    {
     "data": {
      "text/plain": [
       "array([[1.        , 0.08858079, 0.05905386, ..., 0.02450715, 0.02702703,\n",
       "        0.        ],\n",
       "       [0.08858079, 1.        , 0.06451613, ..., 0.02677398, 0.        ,\n",
       "        0.        ],\n",
       "       [0.05905386, 0.06451613, 1.        , ..., 0.02677398, 0.        ,\n",
       "        0.        ],\n",
       "       ...,\n",
       "       [0.02450715, 0.02677398, 0.02677398, ..., 1.        , 0.07352146,\n",
       "        0.04836508],\n",
       "       [0.02702703, 0.        , 0.        , ..., 0.07352146, 1.        ,\n",
       "        0.05333807],\n",
       "       [0.        , 0.        , 0.        , ..., 0.04836508, 0.05333807,\n",
       "        1.        ]])"
      ]
     },
     "execution_count": 948,
     "metadata": {},
     "output_type": "execute_result"
    }
   ],
   "source": [
    "similarity"
   ]
  },
  {
   "cell_type": "code",
   "execution_count": 950,
   "metadata": {
    "colab": {
     "base_uri": "https://localhost:8080/"
    },
    "executionInfo": {
     "elapsed": 39,
     "status": "ok",
     "timestamp": 1683891090617,
     "user": {
      "displayName": "Mrunalini Gupta",
      "userId": "18282297984087753795"
     },
     "user_tz": -330
    },
    "id": "-_BuKt_qRu0q",
    "outputId": "10b4911c-8810-4169-9e2a-daebbc444628"
   },
   "outputs": [
    {
     "data": {
      "text/plain": [
       "1"
      ]
     },
     "execution_count": 950,
     "metadata": {},
     "output_type": "execute_result"
    }
   ],
   "source": [
    "movies_new[movies_new['title'] == \"Pirates of the Caribbean: At World's End\"].index[0]"
   ]
  },
  {
   "cell_type": "code",
   "execution_count": 952,
   "metadata": {
    "id": "L48sFPRSSGL-"
   },
   "outputs": [],
   "source": [
    "def recommend(movie):\n",
    "    index = movies_new[movies_new['title'] == movie].index[0]\n",
    "    distances = sorted(list(enumerate(similarity[index])),reverse=True,key = lambda x: x[1])\n",
    "    for i in distances[1:6]:\n",
    "        print(movies_new.iloc[i[0]].title)"
   ]
  },
  {
   "cell_type": "code",
   "execution_count": 954,
   "metadata": {
    "colab": {
     "base_uri": "https://localhost:8080/"
    },
    "executionInfo": {
     "elapsed": 34,
     "status": "ok",
     "timestamp": 1683891090619,
     "user": {
      "displayName": "Mrunalini Gupta",
      "userId": "18282297984087753795"
     },
     "user_tz": -330
    },
    "id": "cFfH_DfMSVXq",
    "outputId": "d971096e-f535-453f-f32d-f5cc87bceff5"
   },
   "outputs": [
    {
     "name": "stdout",
     "output_type": "stream",
     "text": [
      "Pirates of the Caribbean: Dead Man's Chest\n",
      "Pirates of the Caribbean: On Stranger Tides\n",
      "Pirates of the Caribbean: The Curse of the Black Pearl\n",
      "20,000 Leagues Under the Sea\n",
      "Puss in Boots\n"
     ]
    }
   ],
   "source": [
    "recommend(\"Pirates of the Caribbean: At World's End\")"
   ]
  },
  {
   "cell_type": "code",
   "execution_count": 956,
   "metadata": {
    "id": "t4Yks-h_4gao"
   },
   "outputs": [],
   "source": [
    "import pickle"
   ]
  },
  {
   "cell_type": "code",
   "execution_count": 958,
   "metadata": {
    "id": "KKA05o5U4i11"
   },
   "outputs": [],
   "source": [
    "pickle.dump(popularity,open('TOP_50_MOVIES.pkl','wb'))\n"
   ]
  },
  {
   "cell_type": "code",
   "execution_count": 960,
   "metadata": {
    "id": "SsOaMrnL0QAK"
   },
   "outputs": [],
   "source": [
    "pickle.dump(similarity,open('similarity.pkl','wb'))"
   ]
  },
  {
   "cell_type": "code",
   "execution_count": 962,
   "metadata": {
    "id": "Epd_snbr0P79"
   },
   "outputs": [],
   "source": [
    "pickle.dump(movies_new,open('all_movies_list.pkl','wb'))"
   ]
  },
  {
   "cell_type": "code",
   "execution_count": 964,
   "metadata": {
    "id": "8XgcpnaNkPzH"
   },
   "outputs": [],
   "source": [
    "pickle.dump(vector,open('vector.pkl','wb'))"
   ]
  },
  {
   "cell_type": "code",
   "execution_count": null,
   "metadata": {},
   "outputs": [],
   "source": []
  },
  {
   "cell_type": "code",
   "execution_count": null,
   "metadata": {},
   "outputs": [],
   "source": []
  }
 ],
 "metadata": {
  "colab": {
   "authorship_tag": "ABX9TyNAh4JB7uJYRRyhr8w8xUlz",
   "mount_file_id": "1Gvcb9at8UwY2fzKoVk8UCFtwDMmz1KQe",
   "provenance": []
  },
  "gpuClass": "standard",
  "kernelspec": {
   "display_name": "Python [conda env:base] *",
   "language": "python",
   "name": "conda-base-py"
  },
  "language_info": {
   "codemirror_mode": {
    "name": "ipython",
    "version": 3
   },
   "file_extension": ".py",
   "mimetype": "text/x-python",
   "name": "python",
   "nbconvert_exporter": "python",
   "pygments_lexer": "ipython3",
   "version": "3.12.7"
  }
 },
 "nbformat": 4,
 "nbformat_minor": 4
}
